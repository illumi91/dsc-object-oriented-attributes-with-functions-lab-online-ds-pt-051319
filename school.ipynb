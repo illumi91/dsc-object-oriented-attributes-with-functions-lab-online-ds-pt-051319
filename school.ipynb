{
 "cells": [
  {
   "cell_type": "code",
   "execution_count": 4,
   "metadata": {},
   "outputs": [],
   "source": [
    "class School():\n",
    "    def __init__(self, name, roster = {}):\n",
    "        self.name = name\n",
    "        self.roster = roster\n",
    "\n",
    "    def add_student(self, grade, name):\n",
    "        if grade in self.roster.keys():\n",
    "            self.roster[grade].append(name)\n",
    "        else:\n",
    "            self.roster[name] = [grade]\n",
    "\n",
    "    def grade(self, grade):\n",
    "        new_list = []\n",
    "        for self.x.keys in self.roster:\n",
    "            new_list.append(name)"
   ]
  },
  {
   "cell_type": "code",
   "execution_count": null,
   "metadata": {},
   "outputs": [],
   "source": []
  }
 ],
 "metadata": {
  "kernelspec": {
   "display_name": "Python [conda env:learn-env] *",
   "language": "python",
   "name": "conda-env-learn-env-py"
  },
  "language_info": {
   "codemirror_mode": {
    "name": "ipython",
    "version": 3
   },
   "file_extension": ".py",
   "mimetype": "text/x-python",
   "name": "python",
   "nbconvert_exporter": "python",
   "pygments_lexer": "ipython3",
   "version": "3.6.6"
  }
 },
 "nbformat": 4,
 "nbformat_minor": 2
}
